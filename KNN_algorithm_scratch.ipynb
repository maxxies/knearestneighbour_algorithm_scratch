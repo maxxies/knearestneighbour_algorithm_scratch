{
  "nbformat": 4,
  "nbformat_minor": 0,
  "metadata": {
    "colab": {
      "name": "KNN_algorithm_scratch.ipynb",
      "provenance": [],
      "collapsed_sections": [],
      "authorship_tag": "ABX9TyOgoiY/eDVchY5IqFkFpeYp",
      "include_colab_link": true
    },
    "kernelspec": {
      "name": "python3",
      "display_name": "Python 3"
    },
    "language_info": {
      "name": "python"
    }
  },
  "cells": [
    {
      "cell_type": "markdown",
      "metadata": {
        "id": "view-in-github",
        "colab_type": "text"
      },
      "source": [
        "<a href=\"https://colab.research.google.com/github/maxxies/knearestneighbour_algorithm_scratch/blob/main/KNN_algorithm_scratch.ipynb\" target=\"_parent\"><img src=\"https://colab.research.google.com/assets/colab-badge.svg\" alt=\"Open In Colab\"/></a>"
      ]
    },
    {
      "cell_type": "markdown",
      "source": [
        "**Libraries**"
      ],
      "metadata": {
        "id": "Wyv1Qil5JUAJ"
      }
    },
    {
      "cell_type": "code",
      "execution_count": 27,
      "metadata": {
        "id": "3ReDoQbXI1wQ"
      },
      "outputs": [],
      "source": [
        "from sklearn.datasets import load_breast_cancer\n",
        "import numpy as np\n",
        "import random\n",
        "from collections import Counter"
      ]
    },
    {
      "cell_type": "markdown",
      "source": [
        "**Function takes in the arguments: the training data, a single array of features ,only, for prediction and chosen number of close neighbours respectively.**\n",
        "\n",
        "**The euclidean distance of every feature in the training data with the features for prediction is calculated.**\n",
        "\n",
        " **The distance and the target/label from which the feature comes from in the training data is added to a list.**\n",
        "\n",
        " **The total list after every feature in the training data is used is sorted and the first number of close neighbours is chosen**\n",
        "\n",
        "**The most occurring target/label becomes the target/label for the features for prediction**"
      ],
      "metadata": {
        "id": "3OYFoExoJgtq"
      }
    },
    {
      "cell_type": "code",
      "source": [
        "def k_nearest_neighbours(train_set_data, predict, k=5):\n",
        "    distances = []\n",
        "    for group in train_set_data:\n",
        "        for features in train_set_data[group]:\n",
        "            euclidean_distance = np.linalg.norm(np.array(features)-np.array(predict))\n",
        "            distances.append([euclidean_distance, group])\n",
        "    neighbours = [pairs[1] for pairs in sorted(distances)[:k]]\n",
        "    nearest_neighbour = Counter(neighbours).most_common(1)[0][0]\n",
        "\n",
        "    return nearest_neighbour"
      ],
      "metadata": {
        "id": "I2dMAxwZJeuP"
      },
      "execution_count": 28,
      "outputs": []
    },
    {
      "cell_type": "markdown",
      "source": [
        "**Loading data set**"
      ],
      "metadata": {
        "id": "-dPgcc4FKYj-"
      }
    },
    {
      "cell_type": "code",
      "source": [
        "dataset = load_breast_cancer()\n",
        "data = dataset['data']\n",
        "target = dataset['target']"
      ],
      "metadata": {
        "id": "ws23KoptKeoM"
      },
      "execution_count": 29,
      "outputs": []
    },
    {
      "cell_type": "markdown",
      "source": [
        "**Coverting data sets into numpy arrays**"
      ],
      "metadata": {
        "id": "LwYu4QF7KjsB"
      }
    },
    {
      "cell_type": "code",
      "source": [
        "new_data = np.array(data.astype(float))\n",
        "new_target = np.array(target.astype(float))\n",
        "full_data = []"
      ],
      "metadata": {
        "id": "puWWWXKjKpxH"
      },
      "execution_count": 30,
      "outputs": []
    },
    {
      "cell_type": "markdown",
      "source": [
        "**Adding targets to their respective features**"
      ],
      "metadata": {
        "id": "O8UZNdzsKsTg"
      }
    },
    {
      "cell_type": "code",
      "source": [
        "for i in range(len(new_data)):\n",
        "    temp = new_data[i]\n",
        "    new_array = np.append(temp, new_target[i])\n",
        "    full_data.append(new_array)\n"
      ],
      "metadata": {
        "id": "5gJCoVbDK2Xb"
      },
      "execution_count": 31,
      "outputs": []
    },
    {
      "cell_type": "markdown",
      "source": [
        "**Shuffling total data set**"
      ],
      "metadata": {
        "id": "KpYM-huJK4ni"
      }
    },
    {
      "cell_type": "code",
      "source": [
        "random.shuffle(full_data)\n",
        "# Changing full data set into a numpy array\n",
        "new_full_data = np.array(full_data)\n"
      ],
      "metadata": {
        "id": "EMU8b9JuLEai"
      },
      "execution_count": 32,
      "outputs": []
    },
    {
      "cell_type": "markdown",
      "source": [
        "**Splitting data set into train and test sets**"
      ],
      "metadata": {
        "id": "OJ8Th4gELMF0"
      }
    },
    {
      "cell_type": "code",
      "source": [
        "test_size = 0.15\n",
        "train_data = new_full_data[:-int(test_size*len(new_full_data))]\n",
        "test_data = new_full_data[-int(test_size*len(new_full_data)):]\n",
        "\n",
        "train_set = {'malignant': [], 'benign': []}\n",
        "test_set = {'malignant': [], 'benign': []}\n",
        "for sub_data in train_data:\n",
        "    if (sub_data[-1] == 0):\n",
        "        train_set['benign'].append(sub_data[:-1])\n",
        "    else:\n",
        "        train_set['malignant'].append(sub_data[:-1])\n",
        "\n",
        "for sub_data in test_data:\n",
        "    if (sub_data[-1] == 0):\n",
        "        test_set['benign'].append(sub_data[:-1])\n",
        "    else:\n",
        "        test_set['malignant'].append(sub_data[:-1])\n"
      ],
      "metadata": {
        "id": "BR3NjLaXLS4G"
      },
      "execution_count": 33,
      "outputs": []
    },
    {
      "cell_type": "markdown",
      "source": [
        "**Making predictions using test data set**"
      ],
      "metadata": {
        "id": "HWZB99GxLVud"
      }
    },
    {
      "cell_type": "code",
      "source": [
        "correct_predictions = 0\n",
        "total_number_features = 0\n",
        "for groups in test_set:\n",
        "    for features in test_set[groups]:\n",
        "        prediction = k_nearest_neighbours(train_set, features,15)\n",
        "        if prediction == groups:\n",
        "            correct_predictions += 1\n",
        "        total_number_features += 1\n",
        "accuracy = correct_predictions/total_number_features\n",
        "print(accuracy)"
      ],
      "metadata": {
        "colab": {
          "base_uri": "https://localhost:8080/"
        },
        "id": "1f6i6gjrLi54",
        "outputId": "ffbe9090-eea0-43b7-e398-09a348a27c2f"
      },
      "execution_count": 34,
      "outputs": [
        {
          "output_type": "stream",
          "name": "stdout",
          "text": [
            "0.9529411764705882\n"
          ]
        }
      ]
    }
  ]
}